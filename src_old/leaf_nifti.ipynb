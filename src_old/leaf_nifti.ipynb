{
 "cells": [
  {
   "cell_type": "code",
   "execution_count": 1,
   "metadata": {
    "collapsed": false
   },
   "outputs": [
    {
     "name": "stdout",
     "output_type": "stream",
     "text": [
      "['data_files/Viburnum_batch12_sampleT6_redo_cropped']\n",
      "Viburnum_batch12_sampleT6_redo_cropped\n"
     ]
    },
    {
     "name": "stderr",
     "output_type": "stream",
     "text": [
      "/opt/local/Library/Frameworks/Python.framework/Versions/2.7/lib/python2.7/site-packages/scipy/ndimage/interpolation.py:549: UserWarning: From scipy 0.13.0, the output shape of zoom() is calculated with round() instead of int() - for these inputs the size of the returned array has changed.\n",
      "  \"the returned array has changed.\", UserWarning)\n"
     ]
    },
    {
     "name": "stdout",
     "output_type": "stream",
     "text": [
      "0\n",
      "100\n",
      "200\n",
      "300\n",
      "400\n",
      "500\n",
      "600\n",
      "700\n",
      "800\n",
      "900\n",
      "1000\n",
      "1100\n",
      "1200\n",
      "1300\n",
      "[3L, 419L, 396L, 687L, 1L, 1L, 1L, 1L]\n"
     ]
    },
    {
     "name": "stderr",
     "output_type": "stream",
     "text": [
      "/opt/local/Library/Frameworks/Python.framework/Versions/2.7/lib/python2.7/site-packages/nifti/image.py:231: FutureWarning: comparison to `None` will result in an elementwise object comparison in the future.\n",
      "  return (not self._data == None)\n"
     ]
    },
    {
     "name": "stdout",
     "output_type": "stream",
     "text": [
      "done with  data_files/Viburnum_batch12_sampleT6_redo_cropped\n"
     ]
    }
   ],
   "source": [
    "# save the image stacks I got from Erika as a nifti file so i can try ITK-SNAP to segment the image\n",
    "\n",
    "from nifti import *\n",
    "import nifti.clib as ncl\n",
    "import numpy as np\n",
    "import glob\n",
    "from PIL import Image\n",
    "import matplotlib.pyplot as plt\n",
    "from scipy.ndimage.interpolation import zoom\n",
    "import pickle\n",
    "import os\n",
    "import os.path\n",
    "\n",
    "#dirs = [x[0] for x in os.walk('image_stacks/')][1:]\n",
    "\n",
    "dirs = ['data_files/Viburnum_batch12_sampleT6_redo_cropped']\n",
    "print dirs\n",
    "\n",
    "for d in dirs:\n",
    "    print d[11:]\n",
    "    \n",
    "    if os.path.isfile('data_files/'+d[11:]+'_quarter_res.nii.gz'):\n",
    "\n",
    "        print 'done with ',d\n",
    "\n",
    "    else:\n",
    "\n",
    "        files = []\n",
    "        for file in glob.glob(d+'/*.ti*'):\n",
    "            files.append(file)\n",
    "\n",
    "        # open first image to get the image dimensions\n",
    "        im = zoom(np.array(Image.open(files[0])),0.5)\n",
    "\n",
    "        # define image_stack array\n",
    "        image_stack = np.zeros([len(files)/2,np.shape(im)[0],np.shape(im)[1]])\n",
    "        # read all images\n",
    "        for i in range(len(files)/2):\n",
    "            if i%100 == 0:\n",
    "                print i\n",
    "            im = zoom(np.array(Image.open(sorted(files)[i*2])),0.5)\n",
    "            image_stack[i,:,:] = im\n",
    "\n",
    "        nim = NiftiImage(zoom(image_stack,0.5))\n",
    "        print nim.header['dim']\n",
    "        nim.header['datatype'] == ncl.NIFTI_TYPE_FLOAT64\n",
    "        nim.save('data_files/'+d[11:]+'_quarter_res.nii.gz')\n",
    "\n",
    "        print 'done with ',d\n",
    "\n",
    "\n"
   ]
  },
  {
   "cell_type": "code",
   "execution_count": null,
   "metadata": {
    "collapsed": true
   },
   "outputs": [],
   "source": []
  }
 ],
 "metadata": {
  "kernelspec": {
   "display_name": "Python 2",
   "language": "python",
   "name": "python2"
  },
  "language_info": {
   "codemirror_mode": {
    "name": "ipython",
    "version": 2
   },
   "file_extension": ".py",
   "mimetype": "text/x-python",
   "name": "python",
   "nbconvert_exporter": "python",
   "pygments_lexer": "ipython2",
   "version": "2.7.11"
  }
 },
 "nbformat": 4,
 "nbformat_minor": 0
}
